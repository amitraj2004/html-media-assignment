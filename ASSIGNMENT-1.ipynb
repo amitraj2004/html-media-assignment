{
 "cells": [
  {
   "cell_type": "code",
   "execution_count": 2,
   "id": "55b21ce9-a9fa-493d-94a8-b488bd53927e",
   "metadata": {},
   "outputs": [],
   "source": [
    "#1(i) Variable containing String"
   ]
  },
  {
   "cell_type": "code",
   "execution_count": 7,
   "id": "e3a516ff-9806-419a-8597-fffe96546076",
   "metadata": {},
   "outputs": [],
   "source": [
    "a='google'"
   ]
  },
  {
   "cell_type": "code",
   "execution_count": 8,
   "id": "c202e56c-df30-49ed-a54c-45aeacf1a509",
   "metadata": {},
   "outputs": [
    {
     "name": "stdout",
     "output_type": "stream",
     "text": [
      "<class 'str'>\n"
     ]
    }
   ],
   "source": [
    "print(type(a))"
   ]
  },
  {
   "cell_type": "code",
   "execution_count": 4,
   "id": "a57b89fc-d37d-43e4-a5b6-cfaac3f8cae4",
   "metadata": {},
   "outputs": [],
   "source": [
    "#1(ii) Variable containing list"
   ]
  },
  {
   "cell_type": "code",
   "execution_count": 5,
   "id": "6a03066a-e2f7-4097-80d1-ba464a5ee108",
   "metadata": {},
   "outputs": [],
   "source": [
    "b=[1,2,3,4,5,34.56,'microsoft',5+7j,True]"
   ]
  },
  {
   "cell_type": "code",
   "execution_count": 9,
   "id": "8cfea279-8082-47d2-8d68-c61480ea3d28",
   "metadata": {},
   "outputs": [
    {
     "name": "stdout",
     "output_type": "stream",
     "text": [
      "<class 'list'>\n"
     ]
    }
   ],
   "source": [
    "print(type(b))"
   ]
  },
  {
   "cell_type": "code",
   "execution_count": 10,
   "id": "2b336c7e-62b5-4e42-a95f-8d8acda7b312",
   "metadata": {},
   "outputs": [],
   "source": [
    "#1(iii) Variable containing float"
   ]
  },
  {
   "cell_type": "code",
   "execution_count": 11,
   "id": "493e7d69-cc14-41b2-9e21-68324f213cbd",
   "metadata": {},
   "outputs": [],
   "source": [
    "c=34.56"
   ]
  },
  {
   "cell_type": "code",
   "execution_count": 12,
   "id": "2299bce5-9229-4336-bb1d-1644c96e334f",
   "metadata": {},
   "outputs": [
    {
     "name": "stdout",
     "output_type": "stream",
     "text": [
      "<class 'float'>\n"
     ]
    }
   ],
   "source": [
    "print(type(c))"
   ]
  },
  {
   "cell_type": "code",
   "execution_count": 14,
   "id": "8ec4b0d5-9d70-4675-b055-3cd770870496",
   "metadata": {},
   "outputs": [],
   "source": [
    "#1(iv) Variable containing tuple"
   ]
  },
  {
   "cell_type": "code",
   "execution_count": 16,
   "id": "121f21be-67ad-4ca3-a41b-9ddeb3411504",
   "metadata": {},
   "outputs": [],
   "source": [
    "d=('cplus','java','oracle','python')"
   ]
  },
  {
   "cell_type": "code",
   "execution_count": 17,
   "id": "e2be8431-8b5d-4492-bcf2-2a3d2e3158f5",
   "metadata": {},
   "outputs": [
    {
     "name": "stdout",
     "output_type": "stream",
     "text": [
      "<class 'tuple'>\n"
     ]
    }
   ],
   "source": [
    "print(type(d))"
   ]
  },
  {
   "cell_type": "code",
   "execution_count": 18,
   "id": "69b31a91-9ff0-4e48-9da1-dd81815545f6",
   "metadata": {},
   "outputs": [],
   "source": [
    "#2(i)"
   ]
  },
  {
   "cell_type": "code",
   "execution_count": 19,
   "id": "956460c4-d02b-4a0f-bf50-8c2925d6722e",
   "metadata": {},
   "outputs": [],
   "source": [
    "var1=''"
   ]
  },
  {
   "cell_type": "code",
   "execution_count": 20,
   "id": "013235e6-76f8-4128-b815-8c988593276a",
   "metadata": {},
   "outputs": [
    {
     "name": "stdout",
     "output_type": "stream",
     "text": [
      "<class 'str'>\n"
     ]
    }
   ],
   "source": [
    "print(type(var1))"
   ]
  },
  {
   "cell_type": "code",
   "execution_count": 21,
   "id": "5007525d-37c9-4aef-9fec-57e7172da3fb",
   "metadata": {},
   "outputs": [],
   "source": [
    "#2(ii)"
   ]
  },
  {
   "cell_type": "code",
   "execution_count": 1,
   "id": "ec85b7cf-bd84-47be-b2f9-65a0ce261029",
   "metadata": {},
   "outputs": [],
   "source": [
    "var2='[DS,ML,Python]'"
   ]
  },
  {
   "cell_type": "code",
   "execution_count": 2,
   "id": "dbcef1a0-a346-46af-a45a-3239e27a09db",
   "metadata": {},
   "outputs": [
    {
     "name": "stdout",
     "output_type": "stream",
     "text": [
      "<class 'str'>\n"
     ]
    }
   ],
   "source": [
    "print(type(var2))"
   ]
  },
  {
   "cell_type": "code",
   "execution_count": 3,
   "id": "f2f4c113-48d0-4f28-8c8f-4e8512f7786f",
   "metadata": {},
   "outputs": [],
   "source": [
    "#2(iii)"
   ]
  },
  {
   "cell_type": "code",
   "execution_count": 4,
   "id": "41911c8a-4c86-4354-af3a-323d3053b782",
   "metadata": {},
   "outputs": [],
   "source": [
    "var3=['DS','ML','Python']"
   ]
  },
  {
   "cell_type": "code",
   "execution_count": 5,
   "id": "303c5c93-46e5-4a70-af9d-bfffa81dd6c8",
   "metadata": {},
   "outputs": [
    {
     "name": "stdout",
     "output_type": "stream",
     "text": [
      "<class 'list'>\n"
     ]
    }
   ],
   "source": [
    "print(type(var3))"
   ]
  },
  {
   "cell_type": "code",
   "execution_count": 7,
   "id": "04df7997-b525-4ab2-a8b9-d817d658d180",
   "metadata": {},
   "outputs": [],
   "source": [
    "#2(iv)"
   ]
  },
  {
   "cell_type": "code",
   "execution_count": 8,
   "id": "2fac7989-c543-418f-854c-fdfe921af6d0",
   "metadata": {},
   "outputs": [],
   "source": [
    "var4=1"
   ]
  },
  {
   "cell_type": "code",
   "execution_count": 9,
   "id": "b1866cf2-c55e-4bd0-8fb0-db19f917afd4",
   "metadata": {},
   "outputs": [
    {
     "name": "stdout",
     "output_type": "stream",
     "text": [
      "<class 'int'>\n"
     ]
    }
   ],
   "source": [
    "print(type(var4))"
   ]
  },
  {
   "cell_type": "code",
   "execution_count": 10,
   "id": "01fa1c01-cc4f-4ed3-805a-a16264f55fe9",
   "metadata": {},
   "outputs": [],
   "source": [
    "#3(i)"
   ]
  },
  {
   "cell_type": "code",
   "execution_count": 13,
   "id": "3b253a58-3a20-4e56-99ae-9595d7302c8c",
   "metadata": {},
   "outputs": [],
   "source": [
    "# / is a division operator in python.\n",
    "#examples as mentioned below"
   ]
  },
  {
   "cell_type": "code",
   "execution_count": 14,
   "id": "ff7f5822-6948-4b10-b97a-9bc00524e1b9",
   "metadata": {},
   "outputs": [
    {
     "data": {
      "text/plain": [
       "2.0"
      ]
     },
     "execution_count": 14,
     "metadata": {},
     "output_type": "execute_result"
    }
   ],
   "source": [
    "4/2"
   ]
  },
  {
   "cell_type": "code",
   "execution_count": 15,
   "id": "8e3fa42a-dc3b-4951-b8e2-751c138a40b5",
   "metadata": {},
   "outputs": [
    {
     "data": {
      "text/plain": [
       "2.0"
      ]
     },
     "execution_count": 15,
     "metadata": {},
     "output_type": "execute_result"
    }
   ],
   "source": [
    "10/5"
   ]
  },
  {
   "cell_type": "code",
   "execution_count": 16,
   "id": "b3441fe7-5d6f-4c88-9ee1-f079a673325f",
   "metadata": {},
   "outputs": [
    {
     "data": {
      "text/plain": [
       "0.5"
      ]
     },
     "execution_count": 16,
     "metadata": {},
     "output_type": "execute_result"
    }
   ],
   "source": [
    "5/10"
   ]
  },
  {
   "cell_type": "code",
   "execution_count": 17,
   "id": "39e725ce-919a-4231-bd3c-9184dce04e3b",
   "metadata": {},
   "outputs": [],
   "source": [
    "#3(ii)"
   ]
  },
  {
   "cell_type": "code",
   "execution_count": 21,
   "id": "439ede14-b414-411b-b4d7-eb41621fb74a",
   "metadata": {},
   "outputs": [],
   "source": [
    "# % is a modulas operator in python.\n",
    "#It gives the reminder value when one number is\n",
    "#divided by another number. examples are as under"
   ]
  },
  {
   "cell_type": "code",
   "execution_count": 22,
   "id": "5866dcce-9862-471b-9886-1ebef54e8db3",
   "metadata": {},
   "outputs": [
    {
     "data": {
      "text/plain": [
       "1"
      ]
     },
     "execution_count": 22,
     "metadata": {},
     "output_type": "execute_result"
    }
   ],
   "source": [
    "7%2"
   ]
  },
  {
   "cell_type": "code",
   "execution_count": 23,
   "id": "aa467c07-379e-4614-9954-d430e92de18f",
   "metadata": {},
   "outputs": [
    {
     "data": {
      "text/plain": [
       "0"
      ]
     },
     "execution_count": 23,
     "metadata": {},
     "output_type": "execute_result"
    }
   ],
   "source": [
    "4%2"
   ]
  },
  {
   "cell_type": "code",
   "execution_count": 24,
   "id": "b464f583-30ab-4ed1-9ac5-a0798ad67b4d",
   "metadata": {},
   "outputs": [
    {
     "data": {
      "text/plain": [
       "2"
      ]
     },
     "execution_count": 24,
     "metadata": {},
     "output_type": "execute_result"
    }
   ],
   "source": [
    "17%5"
   ]
  },
  {
   "cell_type": "code",
   "execution_count": 25,
   "id": "646e8f8d-de2b-462e-8457-8eb9bb929b4a",
   "metadata": {},
   "outputs": [
    {
     "data": {
      "text/plain": [
       "1"
      ]
     },
     "execution_count": 25,
     "metadata": {},
     "output_type": "execute_result"
    }
   ],
   "source": [
    "37%9"
   ]
  },
  {
   "cell_type": "code",
   "execution_count": 26,
   "id": "b72bfb7c-436b-40ba-92b8-a509997b208b",
   "metadata": {},
   "outputs": [],
   "source": [
    "#3(iii)"
   ]
  },
  {
   "cell_type": "code",
   "execution_count": 27,
   "id": "ab8bce6d-895b-4ecd-9c6e-2d080fd88f84",
   "metadata": {},
   "outputs": [],
   "source": [
    "# // is an arithmetic floor operator in python.\n",
    "#This operator will divide the first number\n",
    "#by the second and round the result\n",
    "#to the nearest whole number. examples are"
   ]
  },
  {
   "cell_type": "code",
   "execution_count": 28,
   "id": "25de3570-b5f4-473d-be53-990c3064fb1f",
   "metadata": {},
   "outputs": [
    {
     "data": {
      "text/plain": [
       "8"
      ]
     },
     "execution_count": 28,
     "metadata": {},
     "output_type": "execute_result"
    }
   ],
   "source": [
    "17//2"
   ]
  },
  {
   "cell_type": "code",
   "execution_count": 29,
   "id": "485a5415-38b3-4453-8db1-7629ff011cbe",
   "metadata": {},
   "outputs": [
    {
     "data": {
      "text/plain": [
       "1"
      ]
     },
     "execution_count": 29,
     "metadata": {},
     "output_type": "execute_result"
    }
   ],
   "source": [
    "9//6"
   ]
  },
  {
   "cell_type": "code",
   "execution_count": 30,
   "id": "c440b94f-efe9-463b-8135-22f139cb376c",
   "metadata": {},
   "outputs": [
    {
     "data": {
      "text/plain": [
       "4"
      ]
     },
     "execution_count": 30,
     "metadata": {},
     "output_type": "execute_result"
    }
   ],
   "source": [
    "36//9"
   ]
  },
  {
   "cell_type": "code",
   "execution_count": 33,
   "id": "b9ce0a0b-2a36-4926-82c9-fb387fd99bba",
   "metadata": {},
   "outputs": [],
   "source": [
    "#3(iv)"
   ]
  },
  {
   "cell_type": "code",
   "execution_count": 34,
   "id": "3798a571-bc1f-40af-ae62-26658fc3b5d4",
   "metadata": {},
   "outputs": [],
   "source": [
    "# ** is an arithmetic operator in paython known\n",
    "# as exponential operator. Examples are as under:"
   ]
  },
  {
   "cell_type": "code",
   "execution_count": 35,
   "id": "073fb4e1-2a00-46e4-b6fa-2e8b6595e24e",
   "metadata": {},
   "outputs": [
    {
     "data": {
      "text/plain": [
       "8"
      ]
     },
     "execution_count": 35,
     "metadata": {},
     "output_type": "execute_result"
    }
   ],
   "source": [
    "2**3"
   ]
  },
  {
   "cell_type": "code",
   "execution_count": 36,
   "id": "0e3bd606-f939-4e30-b110-552f249dcad0",
   "metadata": {},
   "outputs": [
    {
     "data": {
      "text/plain": [
       "27"
      ]
     },
     "execution_count": 36,
     "metadata": {},
     "output_type": "execute_result"
    }
   ],
   "source": [
    "3**3"
   ]
  },
  {
   "cell_type": "code",
   "execution_count": 38,
   "id": "1281bcd3-7aee-475c-817c-29ec5381c738",
   "metadata": {},
   "outputs": [
    {
     "data": {
      "text/plain": [
       "125"
      ]
     },
     "execution_count": 38,
     "metadata": {},
     "output_type": "execute_result"
    }
   ],
   "source": [
    "5**3"
   ]
  },
  {
   "cell_type": "code",
   "execution_count": 39,
   "id": "3325fc71-d25c-4fde-8eba-12648c96528e",
   "metadata": {},
   "outputs": [],
   "source": [
    "#4"
   ]
  },
  {
   "cell_type": "code",
   "execution_count": 42,
   "id": "0fabaf1e-d67d-45b9-a183-27a78e5e6186",
   "metadata": {},
   "outputs": [],
   "source": [
    "l=[2,3,5.6,True,9+7j,7j,'ML','DS',45.89,False]"
   ]
  },
  {
   "cell_type": "code",
   "execution_count": 46,
   "id": "8efb1554-a4bc-4552-9eea-ecffdf45a1ed",
   "metadata": {},
   "outputs": [
    {
     "name": "stdout",
     "output_type": "stream",
     "text": [
      "2\n",
      "<class 'int'>\n",
      "3\n",
      "<class 'int'>\n",
      "5.6\n",
      "<class 'float'>\n",
      "True\n",
      "<class 'bool'>\n",
      "(9+7j)\n",
      "<class 'complex'>\n",
      "7j\n",
      "<class 'complex'>\n",
      "ML\n",
      "<class 'str'>\n",
      "DS\n",
      "<class 'str'>\n",
      "45.89\n",
      "<class 'float'>\n",
      "False\n",
      "<class 'bool'>\n"
     ]
    }
   ],
   "source": [
    "for k in l:\n",
    "    print(k)\n",
    "    print(type(k))"
   ]
  },
  {
   "cell_type": "code",
   "execution_count": 1,
   "id": "53aa31b3-5609-4ded-a1af-b0022453739e",
   "metadata": {},
   "outputs": [],
   "source": [
    "#5"
   ]
  },
  {
   "cell_type": "code",
   "execution_count": 12,
   "id": "a4c149b1-31d9-4bd6-84b2-eb1221a66345",
   "metadata": {},
   "outputs": [
    {
     "name": "stdout",
     "output_type": "stream",
     "text": [
      "1\n",
      "5.0\n",
      "2\n"
     ]
    }
   ],
   "source": [
    "A=10\n",
    "B=1\n",
    "while A%B==0:\n",
    "    print (B)\n",
    "    B=B+1\n",
    "    if A%B==0:\n",
    "        print (A/B)"
   ]
  },
  {
   "cell_type": "code",
   "execution_count": 12,
   "id": "c163e72d-17f2-47a4-a35c-528be96cbade",
   "metadata": {},
   "outputs": [],
   "source": [
    "#6"
   ]
  },
  {
   "cell_type": "code",
   "execution_count": 16,
   "id": "333fe232-7989-4e18-9b3e-54f5744e5f03",
   "metadata": {},
   "outputs": [],
   "source": [
    "list=[1,2,3,4,5,6,7,8,9,10,11,12,13,14,15,16,17,18,19,20,21,22,23,24,25]"
   ]
  },
  {
   "cell_type": "code",
   "execution_count": 19,
   "id": "2b9742b8-7e84-4729-b738-5f9a38d1a4c3",
   "metadata": {},
   "outputs": [
    {
     "name": "stdout",
     "output_type": "stream",
     "text": [
      "3\n",
      "6\n",
      "9\n",
      "12\n",
      "15\n",
      "18\n",
      "21\n",
      "24\n",
      "Not purely divisible by 3\n"
     ]
    }
   ],
   "source": [
    "for a in list:\n",
    "    if a%3==0:\n",
    "        print (a)\n",
    "else:\n",
    "    print ('Not purely divisible by 3')"
   ]
  },
  {
   "cell_type": "code",
   "execution_count": 20,
   "id": "a951e41f-d642-4275-bade-f40caba7fb51",
   "metadata": {},
   "outputs": [],
   "source": [
    "#7"
   ]
  },
  {
   "cell_type": "code",
   "execution_count": 22,
   "id": "c0079130-99d8-4ed7-a685-6b68d311cdd8",
   "metadata": {},
   "outputs": [],
   "source": [
    "# mutable meaning that can be modified. This means change in the value, add value, or remove existing value without changing the memory location. example"
   ]
  },
  {
   "cell_type": "code",
   "execution_count": 23,
   "id": "52e38282-8f5b-405f-9b0a-50b3e8828051",
   "metadata": {},
   "outputs": [],
   "source": [
    "list= [1,3,2,5,6,7,6.5,4+8j,True,'ML']"
   ]
  },
  {
   "cell_type": "code",
   "execution_count": 24,
   "id": "d127bc44-784c-4e38-9816-42764db216fa",
   "metadata": {},
   "outputs": [],
   "source": [
    "# in the above list we can change the value, add new value or remove existing value from the above list"
   ]
  },
  {
   "cell_type": "code",
   "execution_count": 25,
   "id": "a6252faf-29b3-40dc-8b22-5d070992917a",
   "metadata": {},
   "outputs": [],
   "source": [
    "list[4]='DS'"
   ]
  },
  {
   "cell_type": "code",
   "execution_count": 26,
   "id": "5808a6c7-0589-41ac-8c94-232ec1d85124",
   "metadata": {},
   "outputs": [
    {
     "name": "stdout",
     "output_type": "stream",
     "text": [
      "[1, 3, 2, 5, 'DS', 7, 6.5, (4+8j), True, 'ML']\n"
     ]
    }
   ],
   "source": [
    "print (list)"
   ]
  },
  {
   "cell_type": "code",
   "execution_count": 1,
   "id": "df890f32-3ae4-45ea-810d-3b664ca89f32",
   "metadata": {},
   "outputs": [],
   "source": [
    "#immutable data type-cannot be modified or changed. Example is as under:"
   ]
  },
  {
   "cell_type": "code",
   "execution_count": 2,
   "id": "9b093333-fbf1-4402-a9ea-d35a0c0886b1",
   "metadata": {},
   "outputs": [],
   "source": [
    "a=(1,2,3,4,5,6)"
   ]
  },
  {
   "cell_type": "code",
   "execution_count": 4,
   "id": "cbca770b-2f85-4565-9480-18c77f5533f9",
   "metadata": {},
   "outputs": [
    {
     "name": "stdout",
     "output_type": "stream",
     "text": [
      "<class 'tuple'>\n"
     ]
    }
   ],
   "source": [
    "print(type(a))"
   ]
  },
  {
   "cell_type": "code",
   "execution_count": 7,
   "id": "bcc2716d-c8ca-4acf-8529-9d073c8512f8",
   "metadata": {},
   "outputs": [
    {
     "ename": "SyntaxError",
     "evalue": "cannot assign to function call here. Maybe you meant '==' instead of '='? (848543857.py, line 1)",
     "output_type": "error",
     "traceback": [
      "\u001b[0;36m  Cell \u001b[0;32mIn[7], line 1\u001b[0;36m\u001b[0m\n\u001b[0;31m    a(3)='DS'\u001b[0m\n\u001b[0m    ^\u001b[0m\n\u001b[0;31mSyntaxError\u001b[0m\u001b[0;31m:\u001b[0m cannot assign to function call here. Maybe you meant '==' instead of '='?\n"
     ]
    }
   ],
   "source": [
    "a(3)='DS'"
   ]
  },
  {
   "cell_type": "code",
   "execution_count": null,
   "id": "34be1f7d-d8aa-4237-8bbc-476057d993f1",
   "metadata": {},
   "outputs": [],
   "source": []
  }
 ],
 "metadata": {
  "kernelspec": {
   "display_name": "Python 3 (ipykernel)",
   "language": "python",
   "name": "python3"
  },
  "language_info": {
   "codemirror_mode": {
    "name": "ipython",
    "version": 3
   },
   "file_extension": ".py",
   "mimetype": "text/x-python",
   "name": "python",
   "nbconvert_exporter": "python",
   "pygments_lexer": "ipython3",
   "version": "3.10.8"
  }
 },
 "nbformat": 4,
 "nbformat_minor": 5
}
