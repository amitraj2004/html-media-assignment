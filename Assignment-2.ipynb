{
 "cells": [
  {
   "cell_type": "code",
   "execution_count": 1,
   "id": "c8304410-bb8f-4380-b55f-c53e8451ea22",
   "metadata": {},
   "outputs": [],
   "source": [
    "# Q1. How do you comment code in Python? What are the different types of comments?"
   ]
  },
  {
   "cell_type": "code",
   "execution_count": 2,
   "id": "b4259bde-451c-4d7f-a1a6-d17347758c26",
   "metadata": {},
   "outputs": [],
   "source": [
    "#Answer\n",
    "# Comments are the intergral part of Python programming language. It helps in understanding the code to others as well as the coder himself. To write a comment in Python, simply put the hash mark (#) before your desired comment and Python will not run the code starting with #.\n",
    "# Comments can be of two types:\n",
    "# 1. Single line comments\n",
    "# 2. Multi line comments (Commenting can be applied to whole paragraph by simply pressing CTRL + /) "
   ]
  },
  {
   "cell_type": "code",
   "execution_count": 4,
   "id": "3522872d-9273-46e4-9417-fb150167ce56",
   "metadata": {},
   "outputs": [],
   "source": [
    "# Q2. What are variables in Python? How do you declare and assign values to variables?"
   ]
  },
  {
   "cell_type": "code",
   "execution_count": 1,
   "id": "d3390d25-5cb3-40af-b9df-8178af9c6f6f",
   "metadata": {},
   "outputs": [],
   "source": [
    "#Answer\n",
    "# Variables are reference names to store data. It allows us to store and change data in Python. We declare and assign values to variables using the assignment operator (=)."
   ]
  },
  {
   "cell_type": "code",
   "execution_count": 6,
   "id": "c3ec1c41-89a1-4b7d-b2c3-829babc0b025",
   "metadata": {},
   "outputs": [],
   "source": [
    "# Q3. How do you convert one data type to another in Python?"
   ]
  },
  {
   "cell_type": "code",
   "execution_count": 6,
   "id": "2d17ea7c-5f3d-4a5d-8120-5909ac203d45",
   "metadata": {},
   "outputs": [],
   "source": [
    "#Answer\n",
    "# We convert one data type to another by type casting. Eaxample \n",
    "a=42\n",
    "b=str(a)"
   ]
  },
  {
   "cell_type": "code",
   "execution_count": 8,
   "id": "029248c5-b6e9-4309-9793-e26ec0c9dcfe",
   "metadata": {},
   "outputs": [
    {
     "data": {
      "text/plain": [
       "str"
      ]
     },
     "execution_count": 8,
     "metadata": {},
     "output_type": "execute_result"
    }
   ],
   "source": [
    "type (b)"
   ]
  },
  {
   "cell_type": "code",
   "execution_count": 8,
   "id": "60182803-5ae7-4733-8104-ec8473339142",
   "metadata": {},
   "outputs": [],
   "source": [
    "# Q4. How do you write and execute a Python script from the command line?"
   ]
  },
  {
   "cell_type": "code",
   "execution_count": 9,
   "id": "afa7ccc6-ea7a-49c8-960a-e4a12158b2fb",
   "metadata": {},
   "outputs": [],
   "source": [
    "#Answer\n",
    "# We can write Python scripts iin different types of IDEs (Integrated Development Eniviorments) like VSCode, Jyupitor Notebook etc. The code can be excuted by different ways like \"Run\" button on Jypitor Notebook or \"Shift + Enter\""
   ]
  },
  {
   "cell_type": "code",
   "execution_count": 10,
   "id": "ba9caaa0-1ba6-430f-986c-c006113a60ae",
   "metadata": {},
   "outputs": [],
   "source": [
    "# Q5. Given a list my_list = [1, 2, 3, 4, 5], write the code to slice the list and obtain the sub-list [2, 3]."
   ]
  },
  {
   "cell_type": "code",
   "execution_count": 40,
   "id": "8593bbe0-3a91-4bde-ac96-83af8f6edd87",
   "metadata": {},
   "outputs": [
    {
     "data": {
      "text/plain": [
       "[2, 3]"
      ]
     },
     "execution_count": 40,
     "metadata": {},
     "output_type": "execute_result"
    }
   ],
   "source": [
    "#Answer\n",
    "my_list = [1, 2, 3, 4, 5]\n",
    "my_list[1:3]"
   ]
  },
  {
   "cell_type": "code",
   "execution_count": 12,
   "id": "0a7289f2-02af-412b-9786-8ab32f56fda3",
   "metadata": {},
   "outputs": [],
   "source": [
    "# Q6. What is a complex number in mathematics, and how is it represented in Python?"
   ]
  },
  {
   "cell_type": "code",
   "execution_count": 13,
   "id": "363bd18d-3d15-4d94-998d-3c3f7849fcbf",
   "metadata": {},
   "outputs": [],
   "source": [
    "#Answer\n",
    "# Complex numbers are the numbers that are expressed in the form of (a+ib), where a & b are real numbers and  ‘i’ is an imaginary number. In Python complex number is expressed as a + bj (here j is used instead of i)\n",
    "# examples- 4+5j, 5+78j etc."
   ]
  },
  {
   "cell_type": "code",
   "execution_count": 14,
   "id": "4f17857e-96c1-4969-9a64-bb863b27cec3",
   "metadata": {},
   "outputs": [],
   "source": [
    "# Q7. What is the correct way to declare a variable named age and assign the value 25 to it?"
   ]
  },
  {
   "cell_type": "code",
   "execution_count": 9,
   "id": "b7bb98d0-6894-4318-be37-edbb58c7c9cc",
   "metadata": {},
   "outputs": [],
   "source": [
    "#Answer\n",
    "age=25"
   ]
  },
  {
   "cell_type": "code",
   "execution_count": 24,
   "id": "3c417c1c-abd0-4c69-9aa2-9a0e674922cb",
   "metadata": {},
   "outputs": [],
   "source": [
    "# Q8. Declare a variable named price and assign the value 9.99 to it. What data type does this variable belong to?"
   ]
  },
  {
   "cell_type": "code",
   "execution_count": 11,
   "id": "861d19f1-38e3-4be4-83f7-37f91fbd3f79",
   "metadata": {},
   "outputs": [],
   "source": [
    "#Answer\n",
    "price=9.99"
   ]
  },
  {
   "cell_type": "code",
   "execution_count": 12,
   "id": "083ab6f3-4f38-4b40-9484-3917f12de638",
   "metadata": {},
   "outputs": [
    {
     "data": {
      "text/plain": [
       "float"
      ]
     },
     "execution_count": 12,
     "metadata": {},
     "output_type": "execute_result"
    }
   ],
   "source": [
    "type(price)"
   ]
  },
  {
   "cell_type": "code",
   "execution_count": 25,
   "id": "c1d3a3c6-16cd-4f31-ba02-59ef02dfa963",
   "metadata": {},
   "outputs": [],
   "source": [
    "# Q9. Create a variable named name and assign your full name to it as a string. How would you print the value of this variable?"
   ]
  },
  {
   "cell_type": "code",
   "execution_count": 13,
   "id": "bca590bf-05d1-4fe0-be7a-f79c0bfc04d3",
   "metadata": {},
   "outputs": [
    {
     "name": "stdout",
     "output_type": "stream",
     "text": [
      "Amit Kumar\n"
     ]
    }
   ],
   "source": [
    "#Answer\n",
    "name=\"Amit Kumar\"\n",
    "print(name)"
   ]
  },
  {
   "cell_type": "code",
   "execution_count": 20,
   "id": "d1bf5f49-1efe-4b71-8dcc-06f936280c55",
   "metadata": {},
   "outputs": [],
   "source": [
    "# Q10. Given the string \"Hello, World!\", extract the substring \"World\"."
   ]
  },
  {
   "cell_type": "code",
   "execution_count": 14,
   "id": "b638a333-fc94-4b9f-8043-f366d8250498",
   "metadata": {},
   "outputs": [],
   "source": [
    "#Answer\n",
    "s=\"Hello, World!\""
   ]
  },
  {
   "cell_type": "code",
   "execution_count": 23,
   "id": "9b879e41-d906-4fc8-a841-c7f1a8ab5dba",
   "metadata": {},
   "outputs": [
    {
     "data": {
      "text/plain": [
       "'World!'"
      ]
     },
     "execution_count": 23,
     "metadata": {},
     "output_type": "execute_result"
    }
   ],
   "source": [
    "s[7::]"
   ]
  },
  {
   "cell_type": "code",
   "execution_count": 26,
   "id": "868c2891-6485-49e2-ad0f-51e35465f32a",
   "metadata": {},
   "outputs": [],
   "source": [
    "# Q11. Create a variable named \"is_student\" and assign it a boolean value indicating whether you are currently a student or not."
   ]
  },
  {
   "cell_type": "code",
   "execution_count": 41,
   "id": "fbc396d6-bbc5-4baf-a5d0-082031726b99",
   "metadata": {},
   "outputs": [
    {
     "name": "stdout",
     "output_type": "stream",
     "text": [
      "You are currently a student\n"
     ]
    }
   ],
   "source": [
    "#Answer\n",
    "is_student=True\n",
    "\n",
    "if is_student==True:\n",
    "    print (\"You are currently a student\")\n",
    "else:\n",
    "    print (\"You are currently not a student\")"
   ]
  }
 ],
 "metadata": {
  "kernelspec": {
   "display_name": "Python 3 (ipykernel)",
   "language": "python",
   "name": "python3"
  },
  "language_info": {
   "codemirror_mode": {
    "name": "ipython",
    "version": 3
   },
   "file_extension": ".py",
   "mimetype": "text/x-python",
   "name": "python",
   "nbconvert_exporter": "python",
   "pygments_lexer": "ipython3",
   "version": "3.10.8"
  }
 },
 "nbformat": 4,
 "nbformat_minor": 5
}
